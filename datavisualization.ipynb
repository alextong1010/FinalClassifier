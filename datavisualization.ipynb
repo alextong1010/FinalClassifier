{
 "cells": [
  {
   "cell_type": "code",
   "execution_count": 1,
   "id": "e902edc2-f668-49a4-a977-643e5f19d0fe",
   "metadata": {},
   "outputs": [],
   "source": [
    "import pandas as pd\n",
    "import numpy as np\n",
    "import sys\n",
    "import os\n",
    "import data\n",
    "from data import loaders\n",
    "import lightkurve as lk\n",
    "\n",
    "%load_ext autoreload\n",
    "%autoreload 2\n",
    "%matplotlib inline\n"
   ]
  },
  {
   "cell_type": "code",
   "execution_count": 2,
   "id": "f98bd8ea-d712-4cc9-99d4-f88fa54b5968",
   "metadata": {},
   "outputs": [
    {
     "name": "stderr",
     "output_type": "stream",
     "text": [
      "mount: /mnt/disks/lcs: /dev/sdc already mounted on /mnt/disks/lcs.\n"
     ]
    },
    {
     "name": "stdout",
     "output_type": "stream",
     "text": [
      "Disk mounted\n"
     ]
    }
   ],
   "source": [
    "data_dir = \"/mnt/disks/lcs/\"\n",
    "data.mount_drive(data_dir)\n",
    "data_dir = \"/mnt/disks/lcs/tess-goddard-lcs/\"\n",
    "sec = 6\n",
    "ref = pd.read_csv(data_dir+\"sector6lookup.csv\")"
   ]
  },
  {
   "cell_type": "code",
   "execution_count": 15,
   "id": "891d23a4-0149-45b6-b6c4-81bf523b1679",
   "metadata": {
    "tags": []
   },
   "outputs": [],
   "source": [
    "#tic_ids of all stars with confidence rate of less than 53% (1-0.47)\n",
    "#tmcl = [\"2_min_cadence\" in fn for fn in ref.Filename]\n",
    "tic = [ 12165310, 443414640,  97566657, 306362985,  36549459, 202057643,\n",
    "       282270730,  51834509,  93128995, 282393297, 167178953, 200341207,\n",
    "       220420532, 250462213, 155450553, 436098466,  36549461, 438325776,\n",
    "       372475743, 229336937, 270714932, 231236716, 220224459, 127233332,\n",
    "        32539043, 124500156, 124776014, 269279959, 287355511, 157573720,\n",
    "        37396447,  36440147, 251165368, 250573491,  47632623,  59617313,\n",
    "       234879731, 438500539, 717425538, 102452605,  48951945, 300707137,\n",
    "       220077375,  43152097, 167339240, 339672935, 336882813, 229205551,\n",
    "       299586513, 200546736, 232178820, 232518595, 232191981, 250470331,\n",
    "        36288097,  39352882,  52420727, 127106464, 202007782, 237491373,\n",
    "       317599919, 120664175, 287429535,  52417598, 238090350, 255685600,\n",
    "       282607438, 280222813, 715405694, 427497933,  32595887, 220144004,\n",
    "       714452405, 153708335, 257065278, 282583964, 232280036,  20209072,\n",
    "       237816348, 237400810,  36210679, 241914912,  43146570, 283005109,\n",
    "       282303787,  49612847, 382188519, 232458895, 387229926, 281901486,\n",
    "       238180568, 438498642, 234938150, 293347945, 715405690, 220195317,\n",
    "       158822320, 231817263, 281801438, 282613891,  37163538,  71970184,\n",
    "       172305135, 156949245, 124016594,  71726560, 151065131, 231152314,\n",
    "       301285053, 281408526, 234735428, 438364944, 333146587, 308391497,\n",
    "       387684946, 322823996, 386322987,  34933010,  59715245, 291384173,\n",
    "       426214313, 120664165, 303849788, 762777022, 438306260, 151510373,\n",
    "       438147777,  35582455, 288072024, 255586594, 235339045, 251190870,\n",
    "       179444594,  47587357, 172404799, 270799701, 264462228, 235185213,\n",
    "       143281459, 140600723, 229394040, 715314356, 714452401, 436153552,\n",
    "       157405487, 234014589, 234730997, 282263344, 265708829, 232506748,\n",
    "       319366512,  97961991, 124500150, 237465543,  96745066,  12165297,\n",
    "       711256498, 220109817, 235154058,  36440139,  53648000,  52554983,\n",
    "        42994136, 282303485, 250573495, 280634377,  47392010, 438532561,\n",
    "       260370457, 199898799, 199886264, 762759578, 307373514, 445937964,\n",
    "        77995494, 158759648, 264487296, 200049678,  49313443, 443117776,\n",
    "       231205016, 510539279,  93128996, 464837894,  42435133, 251113047,\n",
    "       711129046, 279792445, 235050640, 123890384,  35951419, 280302041,\n",
    "        42890872,  71685404, 206946497, 277023273, 277298108, 404932359,\n",
    "       237742502, 713395921, 124546753, 140381941, 247591778, 269205935,\n",
    "        80768244, 167172821, 302423551,  96800487, 140861399, 235229741,\n",
    "       307810919, 281914258, 220420530, 322738148,  42168297,  37083693,\n",
    "         4292476,  37240188, 386043686, 247720147, 151470835,  59280651,\n",
    "        97566671, 247918430,  97566692,  31671992, 250462209, 332831632,\n",
    "       235449770, 237441954, 234159688, 301591488, 434398001, 438365749,\n",
    "       389316873,  89005366,  34264284, 387684951,  59715258, 206732580,\n",
    "       156730506, 443414621, 262608099, 382517607, 279053102, 120664166,\n",
    "       716782343, 717537439, 308495472, 142403612, 434320278, 147123427,\n",
    "       288149225,  33943112,  46273425, 685621394, 143336681, 290749711,\n",
    "       263808686, 235272616, 142524060, 251190875,  36549480, 167972680,\n",
    "       299562565, 235078725, 300037422,  30469722, 235282308, 153165368,\n",
    "        63351161,  32595895,  32595900, 119458098, 140600708, 140600725,\n",
    "       510664382, 220127076, 438532558, 263694968, 220224470, 291341162,\n",
    "       313139661, 200546729, 715725408, 715725409,  21541949,  91921979,\n",
    "       127233318, 127233356, 235334145, 370138604, 314829491, 237465542,\n",
    "       237647559, 234014585, 237530835, 282583969, 234173734, 234048280,\n",
    "       282671013, 349966930, 120880608, 206708910,  52756578,  14172739,\n",
    "       238198819, 238200029, 269279965,  36443906, 237694456, 282351875,\n",
    "       265257062, 237465548, 235444806,  32529673,  53324331,  42466659,\n",
    "        43328827,  37396446, 251189679, 251189884, 120544014, 281804977,\n",
    "       282801290, 282305496, 282607443, 280212248, 251213788,  80839869,\n",
    "       251264035, 280633333,  36995471,  36575401,  36574505, 251181259,\n",
    "       283005106, 282303482, 283090696, 250493929, 737538305, 260131653,\n",
    "        72781576,   4254652, 157751383, 427398898, 281976034, 287869391,\n",
    "       287869326, 120275018,  59716645, 437962136, 437938465, 717537444,\n",
    "       437894339,  59618593, 308482596, 124190846, 124190858, 124774826,\n",
    "       200118122, 120265259, 233975532, 120264989, 372662739, 438500536,\n",
    "       438536891, 151235885, 386426469, 438538751,  60584165, 255637585,\n",
    "       206765546, 144730283, 139474512, 263475932, 156425659, 282393307,\n",
    "        53328207,  43152098,  42887164,  52818576,  11408658, 242066344,\n",
    "       251155705,  72882365, 734762265,  35951421, 281801435, 427452055,\n",
    "       427452053,  42826862,  66529052, 443085299,  46638308, 220212731,\n",
    "       235175995, 235106611, 235106619, 220282364, 179371762, 365567213,\n",
    "       365776461,  60172761, 172362571,  52866404,  60038895,  88921680,\n",
    "       293991594, 438225303, 247603389, 151509615, 247681396, 139644150,\n",
    "       269205934, 274318339, 247923857,  47347765, 358109840, 431481674,\n",
    "       431589490, 280098560, 372654594, 281408528, 232501855, 232256217,\n",
    "       354570582, 147979811,  50587560, 168194752, 237722411, 237697651,\n",
    "       255752317, 386043689, 437887247,  91864797, 265453680,  52818594,\n",
    "        97566668, 120664170, 220238893, 220315618, 231205005, 259699534,\n",
    "       220420534]"
   ]
  },
  {
   "cell_type": "code",
   "execution_count": 9,
   "id": "0e3ffcb5-7707-4df1-880c-a2813fdfb8e5",
   "metadata": {
    "collapsed": true,
    "jupyter": {
     "outputs_hidden": true
    },
    "tags": []
   },
   "outputs": [
    {
     "data": {
      "text/html": [
       "<div>\n",
       "<style scoped>\n",
       "    .dataframe tbody tr th:only-of-type {\n",
       "        vertical-align: middle;\n",
       "    }\n",
       "\n",
       "    .dataframe tbody tr th {\n",
       "        vertical-align: top;\n",
       "    }\n",
       "\n",
       "    .dataframe thead th {\n",
       "        text-align: right;\n",
       "    }\n",
       "</style>\n",
       "<table border=\"1\" class=\"dataframe\">\n",
       "  <thead>\n",
       "    <tr style=\"text-align: right;\">\n",
       "      <th></th>\n",
       "      <th>Filename</th>\n",
       "      <th>RA</th>\n",
       "      <th>Dec</th>\n",
       "      <th>TIC_ID</th>\n",
       "      <th>Sector</th>\n",
       "      <th>Camera</th>\n",
       "      <th>CCD</th>\n",
       "      <th>Magnitude</th>\n",
       "    </tr>\n",
       "  </thead>\n",
       "  <tbody>\n",
       "    <tr>\n",
       "      <th>0</th>\n",
       "      <td>tesslcs_sector_6_104/2_min_cadence_targets/tes...</td>\n",
       "      <td>95.791999</td>\n",
       "      <td>-1.608044</td>\n",
       "      <td>251269189</td>\n",
       "      <td>6</td>\n",
       "      <td>1</td>\n",
       "      <td>2</td>\n",
       "      <td>7.80838</td>\n",
       "    </tr>\n",
       "    <tr>\n",
       "      <th>1</th>\n",
       "      <td>tesslcs_sector_6_104/2_min_cadence_targets/tes...</td>\n",
       "      <td>84.545860</td>\n",
       "      <td>-0.936653</td>\n",
       "      <td>11199201</td>\n",
       "      <td>6</td>\n",
       "      <td>1</td>\n",
       "      <td>1</td>\n",
       "      <td>10.15940</td>\n",
       "    </tr>\n",
       "    <tr>\n",
       "      <th>2</th>\n",
       "      <td>tesslcs_sector_6_104/2_min_cadence_targets/tes...</td>\n",
       "      <td>84.402924</td>\n",
       "      <td>-0.887149</td>\n",
       "      <td>11197342</td>\n",
       "      <td>6</td>\n",
       "      <td>1</td>\n",
       "      <td>1</td>\n",
       "      <td>9.15940</td>\n",
       "    </tr>\n",
       "    <tr>\n",
       "      <th>3</th>\n",
       "      <td>tesslcs_sector_6_104/2_min_cadence_targets/tes...</td>\n",
       "      <td>102.088569</td>\n",
       "      <td>2.826208</td>\n",
       "      <td>234271852</td>\n",
       "      <td>6</td>\n",
       "      <td>1</td>\n",
       "      <td>2</td>\n",
       "      <td>13.56620</td>\n",
       "    </tr>\n",
       "    <tr>\n",
       "      <th>4</th>\n",
       "      <td>tesslcs_sector_6_104/2_min_cadence_targets/tes...</td>\n",
       "      <td>104.070502</td>\n",
       "      <td>3.549578</td>\n",
       "      <td>237736917</td>\n",
       "      <td>6</td>\n",
       "      <td>1</td>\n",
       "      <td>2</td>\n",
       "      <td>13.88590</td>\n",
       "    </tr>\n",
       "    <tr>\n",
       "      <th>...</th>\n",
       "      <td>...</td>\n",
       "      <td>...</td>\n",
       "      <td>...</td>\n",
       "      <td>...</td>\n",
       "      <td>...</td>\n",
       "      <td>...</td>\n",
       "      <td>...</td>\n",
       "      <td>...</td>\n",
       "    </tr>\n",
       "    <tr>\n",
       "      <th>2779720</th>\n",
       "      <td>tesslcs_sector_6_104/tesslcs_tmag_9_10/tesslc_...</td>\n",
       "      <td>98.061709</td>\n",
       "      <td>13.446674</td>\n",
       "      <td>306910194</td>\n",
       "      <td>6</td>\n",
       "      <td>1</td>\n",
       "      <td>3</td>\n",
       "      <td>9.98860</td>\n",
       "    </tr>\n",
       "    <tr>\n",
       "      <th>2779721</th>\n",
       "      <td>tesslcs_sector_6_104/tesslcs_tmag_9_10/tesslc_...</td>\n",
       "      <td>97.973194</td>\n",
       "      <td>12.182753</td>\n",
       "      <td>306808426</td>\n",
       "      <td>6</td>\n",
       "      <td>1</td>\n",
       "      <td>3</td>\n",
       "      <td>9.96820</td>\n",
       "    </tr>\n",
       "    <tr>\n",
       "      <th>2779722</th>\n",
       "      <td>tesslcs_sector_6_104/tesslcs_tmag_9_10/tesslc_...</td>\n",
       "      <td>98.085972</td>\n",
       "      <td>12.615259</td>\n",
       "      <td>306911868</td>\n",
       "      <td>6</td>\n",
       "      <td>1</td>\n",
       "      <td>3</td>\n",
       "      <td>9.03830</td>\n",
       "    </tr>\n",
       "    <tr>\n",
       "      <th>2779723</th>\n",
       "      <td>tesslcs_sector_6_104/tesslcs_tmag_9_10/tesslc_...</td>\n",
       "      <td>98.040185</td>\n",
       "      <td>12.074514</td>\n",
       "      <td>306912997</td>\n",
       "      <td>6</td>\n",
       "      <td>1</td>\n",
       "      <td>3</td>\n",
       "      <td>9.47940</td>\n",
       "    </tr>\n",
       "    <tr>\n",
       "      <th>2779724</th>\n",
       "      <td>tesslcs_sector_6_104/tesslcs_tmag_9_10/tesslc_...</td>\n",
       "      <td>94.603089</td>\n",
       "      <td>17.266522</td>\n",
       "      <td>437987010</td>\n",
       "      <td>6</td>\n",
       "      <td>1</td>\n",
       "      <td>3</td>\n",
       "      <td>9.01930</td>\n",
       "    </tr>\n",
       "  </tbody>\n",
       "</table>\n",
       "<p>2779725 rows × 8 columns</p>\n",
       "</div>"
      ],
      "text/plain": [
       "                                                  Filename          RA  \\\n",
       "0        tesslcs_sector_6_104/2_min_cadence_targets/tes...   95.791999   \n",
       "1        tesslcs_sector_6_104/2_min_cadence_targets/tes...   84.545860   \n",
       "2        tesslcs_sector_6_104/2_min_cadence_targets/tes...   84.402924   \n",
       "3        tesslcs_sector_6_104/2_min_cadence_targets/tes...  102.088569   \n",
       "4        tesslcs_sector_6_104/2_min_cadence_targets/tes...  104.070502   \n",
       "...                                                    ...         ...   \n",
       "2779720  tesslcs_sector_6_104/tesslcs_tmag_9_10/tesslc_...   98.061709   \n",
       "2779721  tesslcs_sector_6_104/tesslcs_tmag_9_10/tesslc_...   97.973194   \n",
       "2779722  tesslcs_sector_6_104/tesslcs_tmag_9_10/tesslc_...   98.085972   \n",
       "2779723  tesslcs_sector_6_104/tesslcs_tmag_9_10/tesslc_...   98.040185   \n",
       "2779724  tesslcs_sector_6_104/tesslcs_tmag_9_10/tesslc_...   94.603089   \n",
       "\n",
       "               Dec     TIC_ID  Sector  Camera  CCD  Magnitude  \n",
       "0        -1.608044  251269189       6       1    2    7.80838  \n",
       "1        -0.936653   11199201       6       1    1   10.15940  \n",
       "2        -0.887149   11197342       6       1    1    9.15940  \n",
       "3         2.826208  234271852       6       1    2   13.56620  \n",
       "4         3.549578  237736917       6       1    2   13.88590  \n",
       "...            ...        ...     ...     ...  ...        ...  \n",
       "2779720  13.446674  306910194       6       1    3    9.98860  \n",
       "2779721  12.182753  306808426       6       1    3    9.96820  \n",
       "2779722  12.615259  306911868       6       1    3    9.03830  \n",
       "2779723  12.074514  306912997       6       1    3    9.47940  \n",
       "2779724  17.266522  437987010       6       1    3    9.01930  \n",
       "\n",
       "[2779725 rows x 8 columns]"
      ]
     },
     "execution_count": 9,
     "metadata": {},
     "output_type": "execute_result"
    }
   ],
   "source": [
    "ref"
   ]
  },
  {
   "cell_type": "code",
   "execution_count": 4,
   "id": "8f3c34eb-fec3-471a-8e28-6069260ce94d",
   "metadata": {
    "tags": []
   },
   "outputs": [],
   "source": [
    "#all random forest predicted eb sample of 100\n",
    "tic = [260161144, 156241056, 309908721,  63192395, 144695651, 153166843,\n",
    "       234211934, 141268467,  42991745, 300654002, 201497357, 231822771,\n",
    "        33419790, 119461266,  42828781, 350443417, 350622185, 264594193,\n",
    "        35481236, 281055015,  92009366,  36369488, 241992883, 281409893,\n",
    "       306691906, 234876565, 437986153, 737425239,  59715570,  59715572,\n",
    "        34508912, 438228173, 143350469,  33743771, 206840192, 291380703,\n",
    "       167746516,  53588177, 235409189, 220200239, 153166064, 443052779,\n",
    "        25126289, 220140809,  80603783, 220149256,  46623628, 247952100,\n",
    "       124688144, 237647548, 257064676, 257064693, 257064029, 237465888,\n",
    "       301185877, 307812314, 340979875,  24433067, 220205515, 220278771,\n",
    "        43250275, 281897356, 250589512,  50744490,  36574983, 281494100,\n",
    "        79781905, 158824564, 231921891, 124099758, 437938517, 438226468,\n",
    "       134309817, 264483228, 233975504, 438124870, 151470826, 206763638,\n",
    "       237753600, 234699871, 280431207, 231803612, 120023539,  46485176,\n",
    "       382101519, 264594194, 229385082,  31796120, 369681536, 301704153,\n",
    "       436429333,  80768279, 247923859, 232032228, 235548197, 247951922,\n",
    "        52515811, 265156769, 232034359, 220042007]"
   ]
  },
  {
   "cell_type": "code",
   "execution_count": 5,
   "id": "9e9e000a-8e82-4248-aad8-a3e3533eb09d",
   "metadata": {
    "tags": []
   },
   "outputs": [],
   "source": [
    "#tic_id of a sample of 100 stars with confidence rate of between 20%-40%\n",
    "tic = [ 78568736, 291385340, 350478924, 231809798,  31118189, 263284321,\n",
    "       160328766, 141975903,  49547177,  13345143,  12165310, 278826996,\n",
    "       382067804, 260162199, 138857475, 322899250,  42889751, 276935987,\n",
    "       229282662, 167303776, 279955276, 404854539, 141685465, 427398881,\n",
    "        30313682, 370101492,  52910768, 237558971, 237702040, 199889776,\n",
    "       438228316, 247560986, 142718336,  78056414,  78056415,  91866171,\n",
    "       124777433, 151233402, 229163063, 206791096,  79140936,  63357400,\n",
    "       380026900, 322816126, 156998635,  63039598, 255586667, 259574789,\n",
    "       259589049, 291332565,  80839678,  37404443,  37248141, 172465372,\n",
    "       206703819, 263272455, 233970058, 364537633,  32595021, 202057921,\n",
    "        53324352,  53421164,  52906667,  97643621, 382044071,  78746287,\n",
    "       269117184, 199886262,   7418959, 372655446, 237499890,  92010432,\n",
    "       274235905, 229274555, 158819162, 234818672, 265908204, 199895357,\n",
    "       220066690, 281716393, 235055647, 260298902, 282209987,  34851017,\n",
    "       234768792, 140381885, 144665654,  51930140, 206657848, 431481681,\n",
    "       280051904, 232418560,   4203828, 147032689, 287842867,  72833485,\n",
    "         4250817, 263338610, 120327872, 453097744]"
   ]
  },
  {
   "cell_type": "code",
   "execution_count": 6,
   "id": "60aec67f-4fa8-46a1-bd27-43cf303aabd4",
   "metadata": {
    "tags": []
   },
   "outputs": [],
   "source": [
    "#lookuptable rows of tics\n",
    "ref_subset = ref[ref['TIC_ID'].isin(tic)]"
   ]
  },
  {
   "cell_type": "code",
   "execution_count": 7,
   "id": "577817c5-da7f-462a-ba6e-13d27a16ef29",
   "metadata": {},
   "outputs": [
    {
     "name": "stderr",
     "output_type": "stream",
     "text": [
      "/opt/conda/lib/python3.7/site-packages/pandas/core/arraylike.py:364: RuntimeWarning: divide by zero encountered in log\n",
      "  result = getattr(ufunc, method)(*inputs, **kwargs)\n"
     ]
    }
   ],
   "source": [
    "s6_sub_files = data_dir+ref_subset.Filename.values\n",
    "lcc = loaders.LightCurveCollection(ref_subset.Sector.values,\n",
    "                                   ref_subset.Camera.values,\n",
    "                                   s6_sub_files,\n",
    "                            )\n",
    "lcc.useCpus = 4\n",
    "lcc.load_all_lcs()\n"
   ]
  },
  {
   "cell_type": "code",
   "execution_count": 8,
   "id": "2b5fdc1e-a1e3-409f-ab5a-efffc6121aa2",
   "metadata": {},
   "outputs": [],
   "source": [
    "import matplotlib.pyplot as plt\n",
    "\n",
    "from matplotlib.backends.backend_pdf import PdfPages\n",
    "\n",
    "with PdfPages(f\"Sector{sec}/20-40%ebSector{sec}.pdf\") as pdf:\n",
    "    plt.cla()\n",
    "    for i in range(100):\n",
    "        lcc.lcs[i].scatter()\n",
    "        pdf.savefig()\n",
    "        plt.close();\n",
    "plt.close()"
   ]
  },
  {
   "cell_type": "code",
   "execution_count": 25,
   "id": "e8225fb7-23ef-4fac-b69e-9451ad69c5de",
   "metadata": {},
   "outputs": [
    {
     "data": {
      "text/plain": [
       "<AxesSubplot:xlabel='Time - 2457000 [BTJD days]', ylabel='Flux'>"
      ]
     },
     "execution_count": 25,
     "metadata": {},
     "output_type": "execute_result"
    },
    {
     "data": {
      "image/png": "[encoded data removed]",
      "text/plain": [
       "<Figure size 848.5x400 with 1 Axes>"
      ]
     },
     "metadata": {},
     "output_type": "display_data"
    }
   ],
   "source": [
    "lcc.lcs[0].scatter()"
   ]
  },
  {
   "cell_type": "code",
   "execution_count": null,
   "id": "c9c699f2-c3c2-4c84-8a23-badafb9277c4",
   "metadata": {},
   "outputs": [],
   "source": []
  }
 ],
 "metadata": {
  "environment": {
   "kernel": "python3",
   "name": "common-cpu.m89",
   "type": "gcloud",
   "uri": "gcr.io/deeplearning-platform-release/base-cpu:m89"
  },
  "kernelspec": {
   "display_name": "Python 3",
   "language": "python",
   "name": "python3"
  },
  "language_info": {
   "codemirror_mode": {
    "name": "ipython",
    "version": 3
   },
   "file_extension": ".py",
   "mimetype": "text/x-python",
   "name": "python",
   "nbconvert_exporter": "python",
   "pygments_lexer": "ipython3",
   "version": "3.7.12"
  }
 },
 "nbformat": 4,
 "nbformat_minor": 5
}
