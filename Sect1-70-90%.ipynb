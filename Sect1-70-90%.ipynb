{
 "cells": [
  {
   "cell_type": "markdown",
   "id": "eece343f-31f7-41f7-ab20-0e24b10d33ba",
   "metadata": {},
   "source": [
    "(EBs with 70-90% confidence value including 70 from Yifan's RF algorithm)\n",
    "<br>\n",
    "Finding and removing closest stars, then printing the remaining light curves into a pdf file to visually examine"
   ]
  },
  {
   "cell_type": "code",
   "execution_count": 17,
   "id": "2613b7cb-8dae-4a9b-8ded-da8a12b20c89",
   "metadata": {},
   "outputs": [
    {
     "name": "stdout",
     "output_type": "stream",
     "text": [
      "The autoreload extension is already loaded. To reload it, use:\n",
      "  %reload_ext autoreload\n"
     ]
    }
   ],
   "source": [
    "#imports\n",
    "import matplotlib.pyplot as plt\n",
    "import pandas as pd\n",
    "import numpy as np\n",
    "import sys\n",
    "#sys.path.append(\"../BerkeleySETI/Messy-Notebooks\")\n",
    "sys.path.append(\"../FinalClassifier/data\")\n",
    "import os\n",
    "\n",
    "import data\n",
    "from data import loaders\n",
    "from data import phasefold as pf\n",
    "import lightkurve as lk\n",
    "import warnings\n",
    "import glob\n",
    "import pickle\n",
    "\n",
    "%load_ext autoreload\n",
    "%autoreload 2"
   ]
  },
  {
   "cell_type": "code",
   "execution_count": 28,
   "id": "26b1b8b1-4f12-45e4-9014-3610dce2c84b",
   "metadata": {},
   "outputs": [],
   "source": [
    "#sector you want to classify\n",
    "sector = 1"
   ]
  },
  {
   "cell_type": "markdown",
   "id": "ef32151a-149d-4f87-8bad-59624ee742b8",
   "metadata": {},
   "source": [
    "read in the prediction as well as the confidence values for each tic in sector 1, based off the RF model"
   ]
  },
  {
   "cell_type": "code",
   "execution_count": 3,
   "id": "e1b4d3d2-9b71-4fe8-87f8-3c3b76b539d3",
   "metadata": {},
   "outputs": [],
   "source": [
    "sec1 = pd.read_csv('Sector1/sect1predandprob.csv', index_col=0)"
   ]
  },
  {
   "cell_type": "code",
   "execution_count": null,
   "id": "2b9b2776-59ed-4a24-ad26-d6d8c5b5f753",
   "metadata": {},
   "outputs": [],
   "source": []
  },
  {
   "cell_type": "code",
   "execution_count": null,
   "id": "eb2590b0-6b2b-4e38-9d49-c0c6c0c07b75",
   "metadata": {},
   "outputs": [],
   "source": [
    "!gcsfuse --implicit-dirs tess-goddard-lcs /home/jupyter/mountpoint"
   ]
  },
  {
   "cell_type": "code",
   "execution_count": 29,
   "id": "6157fb47-5414-42d5-905d-e1167f52351d",
   "metadata": {},
   "outputs": [],
   "source": [
    "data_dir = \"/home/jupyter/mountpoint/\"\n",
    "ref = pd.read_csv(data_dir + 'sector1lookup.csv')\n",
    "eb = sec1[sec1['probone'] > 0.7]\n",
    "eb = eb[eb['probone'] < 0.9]"
   ]
  },
  {
   "cell_type": "code",
   "execution_count": 30,
   "id": "313810c5-37d2-4cd5-ac2d-d6da5d6e2725",
   "metadata": {
    "collapsed": true,
    "jupyter": {
     "outputs_hidden": true
    },
    "tags": []
   },
   "outputs": [
    {
     "data": {
      "text/html": [
       "<div>\n",
       "<style scoped>\n",
       "    .dataframe tbody tr th:only-of-type {\n",
       "        vertical-align: middle;\n",
       "    }\n",
       "\n",
       "    .dataframe tbody tr th {\n",
       "        vertical-align: top;\n",
       "    }\n",
       "\n",
       "    .dataframe thead th {\n",
       "        text-align: right;\n",
       "    }\n",
       "</style>\n",
       "<table border=\"1\" class=\"dataframe\">\n",
       "  <thead>\n",
       "    <tr style=\"text-align: right;\">\n",
       "      <th></th>\n",
       "      <th>probzero</th>\n",
       "      <th>probone</th>\n",
       "      <th>pred</th>\n",
       "    </tr>\n",
       "  </thead>\n",
       "  <tbody>\n",
       "    <tr>\n",
       "      <th>270221859</th>\n",
       "      <td>0.102000</td>\n",
       "      <td>0.898000</td>\n",
       "      <td>1</td>\n",
       "    </tr>\n",
       "    <tr>\n",
       "      <th>126803454</th>\n",
       "      <td>0.102000</td>\n",
       "      <td>0.898000</td>\n",
       "      <td>1</td>\n",
       "    </tr>\n",
       "    <tr>\n",
       "      <th>206488769</th>\n",
       "      <td>0.102000</td>\n",
       "      <td>0.898000</td>\n",
       "      <td>1</td>\n",
       "    </tr>\n",
       "    <tr>\n",
       "      <th>231702259</th>\n",
       "      <td>0.102000</td>\n",
       "      <td>0.898000</td>\n",
       "      <td>1</td>\n",
       "    </tr>\n",
       "    <tr>\n",
       "      <th>1989908229</th>\n",
       "      <td>0.102000</td>\n",
       "      <td>0.898000</td>\n",
       "      <td>1</td>\n",
       "    </tr>\n",
       "    <tr>\n",
       "      <th>...</th>\n",
       "      <td>...</td>\n",
       "      <td>...</td>\n",
       "      <td>...</td>\n",
       "    </tr>\n",
       "    <tr>\n",
       "      <th>325338582</th>\n",
       "      <td>0.298000</td>\n",
       "      <td>0.702000</td>\n",
       "      <td>1</td>\n",
       "    </tr>\n",
       "    <tr>\n",
       "      <th>99672412</th>\n",
       "      <td>0.298000</td>\n",
       "      <td>0.702000</td>\n",
       "      <td>1</td>\n",
       "    </tr>\n",
       "    <tr>\n",
       "      <th>211411347</th>\n",
       "      <td>0.298000</td>\n",
       "      <td>0.702000</td>\n",
       "      <td>1</td>\n",
       "    </tr>\n",
       "    <tr>\n",
       "      <th>358578246</th>\n",
       "      <td>0.298333</td>\n",
       "      <td>0.701667</td>\n",
       "      <td>1</td>\n",
       "    </tr>\n",
       "    <tr>\n",
       "      <th>309859850</th>\n",
       "      <td>0.299000</td>\n",
       "      <td>0.701000</td>\n",
       "      <td>1</td>\n",
       "    </tr>\n",
       "  </tbody>\n",
       "</table>\n",
       "<p>553 rows × 3 columns</p>\n",
       "</div>"
      ],
      "text/plain": [
       "            probzero   probone  pred\n",
       "270221859   0.102000  0.898000     1\n",
       "126803454   0.102000  0.898000     1\n",
       "206488769   0.102000  0.898000     1\n",
       "231702259   0.102000  0.898000     1\n",
       "1989908229  0.102000  0.898000     1\n",
       "...              ...       ...   ...\n",
       "325338582   0.298000  0.702000     1\n",
       "99672412    0.298000  0.702000     1\n",
       "211411347   0.298000  0.702000     1\n",
       "358578246   0.298333  0.701667     1\n",
       "309859850   0.299000  0.701000     1\n",
       "\n",
       "[553 rows x 3 columns]"
      ]
     },
     "execution_count": 30,
     "metadata": {},
     "output_type": "execute_result"
    }
   ],
   "source": [
    "eb"
   ]
  },
  {
   "cell_type": "code",
   "execution_count": 46,
   "id": "f5bd88dd-61a0-41a6-bb8c-0edd694a713b",
   "metadata": {},
   "outputs": [
    {
     "data": {
      "text/plain": [
       "553"
      ]
     },
     "execution_count": 46,
     "metadata": {},
     "output_type": "execute_result"
    }
   ],
   "source": [
    "tics = eb.index.values\n",
    "len(tics)"
   ]
  },
  {
   "cell_type": "code",
   "execution_count": null,
   "id": "eaa7f072-2a37-4c74-934d-69a668993137",
   "metadata": {},
   "outputs": [],
   "source": [
    "stars = ref.TIC_ID.isin(tics)\n",
    "closestarslist = []\n",
    "for i in range(len(tics)):\n",
    "    rastar = ref[stars].RA.values[i]\n",
    "    decstar = ref[stars].Dec.values[i]\n",
    "    dist = np.sqrt(((rastar-ref[stars].RA.values)*(np.cos(decstar)))**2+(decstar-ref[stars].Dec.values)**2)\n",
    "    closestars = np.where((dist < 0.1) & (dist != 0))\n",
    "    closestarslist.append(closestars)\n",
    "    \n",
    "closestarstics = []\n",
    "for i in range (len(closestarslist)):\n",
    "    tics = []\n",
    "    tics.append(ref[stars].TIC_ID.values[i])\n",
    "    for j in range(len(closestarslist[i][0])):\n",
    "        tics.append(ref[stars].TIC_ID.values[closestarslist[i][0][j]])\n",
    "    closestarstics.append(tics)"
   ]
  },
  {
   "cell_type": "code",
   "execution_count": 33,
   "id": "39cc9b85-0b2f-4306-9a4a-2f80096b6127",
   "metadata": {},
   "outputs": [],
   "source": [
    "refebs = ref.loc[ref['TIC_ID'].isin(eb.index.values)]\n",
    "files = data_dir + refebs.Filename.values\n",
    "lcc = loaders.LightCurveCollection(refebs.Sector.values,\n",
    "                                   refebs.Camera.values,\n",
    "                                   files,\n",
    "                                   False\n",
    "                            )\n",
    "lcc.useCpus = 8\n",
    "lcc.load_all_lcs()\n",
    "\n",
    "lcs = lcc.lcs"
   ]
  },
  {
   "cell_type": "code",
   "execution_count": 34,
   "id": "e2c938b2-82e0-47ce-a592-dcec5b1b87ef",
   "metadata": {},
   "outputs": [
    {
     "data": {
      "text/plain": [
       "553"
      ]
     },
     "execution_count": 34,
     "metadata": {},
     "output_type": "execute_result"
    }
   ],
   "source": [
    "len(lcs)"
   ]
  },
  {
   "cell_type": "code",
   "execution_count": 35,
   "id": "43a970be-95e0-4540-8b84-58c9a3a4ae0b",
   "metadata": {},
   "outputs": [],
   "source": [
    "tic = []\n",
    "avgflux = []\n",
    "    \n",
    "for i in range(len(lcs)):\n",
    "    tic.append(refebs['TIC_ID'].values[i])\n",
    "    avgflux.append(np.median(lcs[i].flux.value))"
   ]
  },
  {
   "cell_type": "code",
   "execution_count": 36,
   "id": "90bbf907-d677-4f67-8cf5-8333d5b1e26d",
   "metadata": {},
   "outputs": [],
   "source": [
    "df = {'TIC': tic, 'avgflux': avgflux}\n",
    "avg = pd.DataFrame(df)"
   ]
  },
  {
   "cell_type": "code",
   "execution_count": 37,
   "id": "0829d284-6c4e-4626-85bc-d643e3cf958b",
   "metadata": {},
   "outputs": [],
   "source": [
    "highestfluxtics = []\n",
    "for i in range(len(closestarstics)):\n",
    "    a = []\n",
    "    for j in closestarstics[i]:\n",
    "        a.append(avg[avg['TIC'] == j].avgflux.values[0])\n",
    "    highestfluxtics.append(closestarstics[i][a.index(max(a))])"
   ]
  },
  {
   "cell_type": "code",
   "execution_count": 44,
   "id": "2121afe8-4ed9-4258-910d-44405b1e1d44",
   "metadata": {
    "tags": []
   },
   "outputs": [
    {
     "data": {
      "text/plain": [
       "553"
      ]
     },
     "execution_count": 44,
     "metadata": {},
     "output_type": "execute_result"
    }
   ],
   "source": [
    "len(highestfluxtics)"
   ]
  },
  {
   "cell_type": "code",
   "execution_count": 38,
   "id": "706e6a5b-0cd9-407c-b5dd-4249a7dcdae0",
   "metadata": {},
   "outputs": [],
   "source": [
    "def checkIfDuplicates_2(listOfElems):\n",
    "    ''' Check if given list contains any duplicates '''    \n",
    "    setOfElems = set()\n",
    "    for elem in listOfElems:\n",
    "        if elem in setOfElems:\n",
    "            return True\n",
    "        else:\n",
    "            setOfElems.add(elem)         \n",
    "    return False"
   ]
  },
  {
   "cell_type": "code",
   "execution_count": 39,
   "id": "1f7f4175-0156-4978-b116-90ea3d86b22a",
   "metadata": {},
   "outputs": [
    {
     "name": "stdout",
     "output_type": "stream",
     "text": [
      "Yes, list contains duplicates\n"
     ]
    }
   ],
   "source": [
    "result = checkIfDuplicates_2(highestfluxtics)\n",
    "if result:\n",
    "    print('Yes, list contains duplicates')\n",
    "else:\n",
    "    print('No duplicates found in list')   "
   ]
  },
  {
   "cell_type": "code",
   "execution_count": 40,
   "id": "54f92144-5bce-4d7c-99c1-37b236cb313d",
   "metadata": {},
   "outputs": [],
   "source": [
    "newlist = [] #eb list with no duplicates, cut down to ones with highest flux values in a radius of 0.1\n",
    "duplist = []\n",
    "for i in highestfluxtics:\n",
    "    if i not in newlist:\n",
    "        newlist.append(i)\n",
    "    else:\n",
    "        duplist.append(i)"
   ]
  },
  {
   "cell_type": "code",
   "execution_count": 41,
   "id": "07e3da55-a779-440a-b7b7-8e1e701d2a9c",
   "metadata": {},
   "outputs": [
    {
     "data": {
      "text/plain": [
       "455"
      ]
     },
     "execution_count": 41,
     "metadata": {},
     "output_type": "execute_result"
    }
   ],
   "source": [
    "len(newlist)"
   ]
  },
  {
   "cell_type": "code",
   "execution_count": null,
   "id": "4ffde3c7-eb1b-4f06-8fca-c92f38cc1905",
   "metadata": {},
   "outputs": [],
   "source": []
  }
 ],
 "metadata": {
  "environment": {
   "kernel": "python3",
   "name": "common-cpu.m89",
   "type": "gcloud",
   "uri": "gcr.io/deeplearning-platform-release/base-cpu:m89"
  },
  "kernelspec": {
   "display_name": "Python 3",
   "language": "python",
   "name": "python3"
  },
  "language_info": {
   "codemirror_mode": {
    "name": "ipython",
    "version": 3
   },
   "file_extension": ".py",
   "mimetype": "text/x-python",
   "name": "python",
   "nbconvert_exporter": "python",
   "pygments_lexer": "ipython3",
   "version": "3.7.12"
  }
 },
 "nbformat": 4,
 "nbformat_minor": 5
}
